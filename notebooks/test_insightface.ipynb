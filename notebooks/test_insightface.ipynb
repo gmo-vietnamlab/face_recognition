{
 "cells": [
  {
   "cell_type": "code",
   "execution_count": 3,
   "id": "002c7a14-46c6-4b36-a1cc-3a9d1e8a1d50",
   "metadata": {},
   "outputs": [
    {
     "name": "stdout",
     "output_type": "stream",
     "text": [
      "Collecting cython\n",
      "  Using cached https://files.pythonhosted.org/packages/da/ac/e28e88d5846adf97ea81477e8567d5a333a0ab3b8d0f1836a8d2e3083aba/Cython-0.29.24-cp37-cp37m-macosx_10_9_x86_64.whl\n",
      "Installing collected packages: cython\n",
      "Successfully installed cython-0.29.24\n",
      "\u001b[33mYou are using pip version 10.0.1, however version 21.2.4 is available.\n",
      "You should consider upgrading via the 'pip install --upgrade pip' command.\u001b[0m\n"
     ]
    }
   ],
   "source": [
    "!pip install --upgrade cython"
   ]
  },
  {
   "cell_type": "code",
   "execution_count": null,
   "id": "33643d5c-5653-4fcc-8bad-861a1e588d3e",
   "metadata": {},
   "outputs": [],
   "source": [
    "!pip install insightface"
   ]
  },
  {
   "cell_type": "code",
   "execution_count": null,
   "id": "59292a25-d0cf-441e-a4b8-79a870926e51",
   "metadata": {},
   "outputs": [],
   "source": [
    "!pip install onnxruntime"
   ]
  },
  {
   "cell_type": "code",
   "execution_count": 7,
   "id": "5c87b724-349e-49b9-80ee-d1235a78229b",
   "metadata": {},
   "outputs": [
    {
     "name": "stdout",
     "output_type": "stream",
     "text": [
      "download_path: /Users/usr0103243/.insightface/models/antelopev2\n",
      "Downloading /Users/usr0103243/.insightface/models/antelopev2.zip from http://storage.insightface.ai/files/models/antelopev2.zip...\n"
     ]
    },
    {
     "name": "stderr",
     "output_type": "stream",
     "text": [
      "100%|██████████████████████████████████| 352289/352289 [01:44<00:00, 3370.03KB/s]\n"
     ]
    },
    {
     "name": "stdout",
     "output_type": "stream",
     "text": [
      "Applied providers: ['CPUExecutionProvider'], with options: {'CPUExecutionProvider': {}}\n",
      "find model: /Users/usr0103243/.insightface/models/antelopev2/1k3d68.onnx landmark_3d_68 ['None', 3, 192, 192] 0.0 1.0\n",
      "Applied providers: ['CPUExecutionProvider'], with options: {'CPUExecutionProvider': {}}\n",
      "find model: /Users/usr0103243/.insightface/models/antelopev2/2d106det.onnx landmark_2d_106 ['None', 3, 192, 192] 0.0 1.0\n",
      "Applied providers: ['CPUExecutionProvider'], with options: {'CPUExecutionProvider': {}}\n",
      "find model: /Users/usr0103243/.insightface/models/antelopev2/genderage.onnx genderage ['None', 3, 96, 96] 0.0 1.0\n",
      "Applied providers: ['CPUExecutionProvider'], with options: {'CPUExecutionProvider': {}}\n",
      "find model: /Users/usr0103243/.insightface/models/antelopev2/glintr100.onnx recognition ['None', 3, 112, 112] 127.5 127.5\n",
      "Applied providers: ['CPUExecutionProvider'], with options: {'CPUExecutionProvider': {}}\n",
      "find model: /Users/usr0103243/.insightface/models/antelopev2/scrfd_10g_bnkps.onnx detection [1, 3, '?', '?'] 127.5 128.0\n",
      "set det-size: (640, 640)\n"
     ]
    },
    {
     "data": {
      "text/plain": [
       "True"
      ]
     },
     "execution_count": 7,
     "metadata": {},
     "output_type": "execute_result"
    }
   ],
   "source": [
    "import cv2\n",
    "import numpy as np\n",
    "import insightface\n",
    "from insightface.app import FaceAnalysis\n",
    "from insightface.data import get_image as ins_get_image\n",
    "\n",
    "app = FaceAnalysis()\n",
    "app.prepare(ctx_id=0, det_size=(640, 640))\n",
    "img = ins_get_image('t1')\n",
    "faces = app.get(img)\n",
    "rimg = app.draw_on(img, faces)\n",
    "cv2.imwrite(\"./t1_output.jpg\", rimg)"
   ]
  },
  {
   "cell_type": "code",
   "execution_count": 12,
   "id": "d353fff3-473f-4bf5-8ddf-a4fcd5e483cb",
   "metadata": {},
   "outputs": [
    {
     "data": {
      "text/plain": [
       "(512,)"
      ]
     },
     "execution_count": 12,
     "metadata": {},
     "output_type": "execute_result"
    }
   ],
   "source": [
    "faces[0].embedding.shape"
   ]
  },
  {
   "cell_type": "markdown",
   "id": "5a607e1d-ba5b-49f0-9461-ddbe8eaac5b7",
   "metadata": {},
   "source": [
    "## test fa"
   ]
  },
  {
   "cell_type": "code",
   "execution_count": 20,
   "id": "4745844c-a152-4353-9fbb-b271ad59d09d",
   "metadata": {},
   "outputs": [],
   "source": [
    "face_image = cv2.imread('../data/employee_data/NguyenVanThai/0.png')"
   ]
  },
  {
   "cell_type": "code",
   "execution_count": 21,
   "id": "dd70ddd8-8319-4a27-9e59-ca7d86c75060",
   "metadata": {},
   "outputs": [
    {
     "data": {
      "text/plain": [
       "(1920, 1080, 3)"
      ]
     },
     "execution_count": 21,
     "metadata": {},
     "output_type": "execute_result"
    }
   ],
   "source": [
    "face_image.shape"
   ]
  },
  {
   "cell_type": "code",
   "execution_count": 25,
   "id": "14f675a3-3156-4edd-9f2d-9a2ee7f8a47c",
   "metadata": {},
   "outputs": [
    {
     "name": "stdout",
     "output_type": "stream",
     "text": [
      "(512,)\n"
     ]
    }
   ],
   "source": [
    "test_faces = app.get(face_image)\n",
    "print(test_faces[0].normed_embedding.shape)"
   ]
  },
  {
   "cell_type": "code",
   "execution_count": null,
   "id": "07615598-987f-4804-8942-6a6b102656b5",
   "metadata": {},
   "outputs": [],
   "source": []
  },
  {
   "cell_type": "code",
   "execution_count": null,
   "id": "b6bd7b91-b1a5-483e-b408-52d34215cc1b",
   "metadata": {},
   "outputs": [],
   "source": []
  },
  {
   "cell_type": "code",
   "execution_count": null,
   "id": "aef45a53-cd34-4d6d-8651-ca67e047728a",
   "metadata": {},
   "outputs": [],
   "source": []
  }
 ],
 "metadata": {
  "kernelspec": {
   "display_name": "python3.7.0",
   "language": "python",
   "name": "python3.7.0"
  },
  "language_info": {
   "codemirror_mode": {
    "name": "ipython",
    "version": 3
   },
   "file_extension": ".py",
   "mimetype": "text/x-python",
   "name": "python",
   "nbconvert_exporter": "python",
   "pygments_lexer": "ipython3",
   "version": "3.7.0"
  }
 },
 "nbformat": 4,
 "nbformat_minor": 5
}
